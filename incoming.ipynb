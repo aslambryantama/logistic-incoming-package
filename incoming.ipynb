{
 "cells": [
  {
   "cell_type": "code",
   "execution_count": 1,
   "id": "a482d8d1-ac80-4367-9168-946e01028185",
   "metadata": {
    "execution": {
     "iopub.execute_input": "2022-12-12T09:24:31.047081Z",
     "iopub.status.busy": "2022-12-12T09:24:31.046078Z",
     "iopub.status.idle": "2022-12-12T09:24:31.057068Z",
     "shell.execute_reply": "2022-12-12T09:24:31.056069Z",
     "shell.execute_reply.started": "2022-12-12T09:24:31.047081Z"
    }
   },
   "outputs": [],
   "source": [
    "import numpy as np\n",
    "import pandas as pd\n",
    "from glob import glob\n",
    "\n",
    "import datetime as dts\n",
    "from datetime import date\n",
    "from datetime import timedelta"
   ]
  },
  {
   "cell_type": "code",
   "execution_count": 2,
   "id": "eebf9093-a8bb-4f94-9c19-8e539969397f",
   "metadata": {
    "execution": {
     "iopub.execute_input": "2022-12-12T09:24:31.060065Z",
     "iopub.status.busy": "2022-12-12T09:24:31.059066Z",
     "iopub.status.idle": "2022-12-12T09:24:31.119012Z",
     "shell.execute_reply": "2022-12-12T09:24:31.119012Z",
     "shell.execute_reply.started": "2022-12-12T09:24:31.060065Z"
    },
    "tags": []
   },
   "outputs": [],
   "source": [
    "files = glob(\"Incoming Raw/*.csv\")"
   ]
  },
  {
   "cell_type": "code",
   "execution_count": 3,
   "id": "44f6f19d-1f9d-4d15-b101-512054332449",
   "metadata": {
    "execution": {
     "iopub.execute_input": "2022-12-12T09:24:31.121008Z",
     "iopub.status.busy": "2022-12-12T09:24:31.121008Z",
     "iopub.status.idle": "2022-12-12T09:24:35.379196Z",
     "shell.execute_reply": "2022-12-12T09:24:35.379196Z",
     "shell.execute_reply.started": "2022-12-12T09:24:31.121008Z"
    }
   },
   "outputs": [],
   "source": [
    "df = pd.concat((pd.read_csv(file) for file in files), ignore_index=True)"
   ]
  },
  {
   "cell_type": "code",
   "execution_count": 4,
   "id": "65d11635-b0a4-4148-9e90-bdcd324f0cac",
   "metadata": {
    "collapsed": true,
    "execution": {
     "iopub.execute_input": "2022-12-12T09:24:35.381195Z",
     "iopub.status.busy": "2022-12-12T09:24:35.381195Z",
     "iopub.status.idle": "2022-12-12T09:24:37.315214Z",
     "shell.execute_reply": "2022-12-12T09:24:37.315214Z",
     "shell.execute_reply.started": "2022-12-12T09:24:35.381195Z"
    },
    "jupyter": {
     "outputs_hidden": true
    },
    "tags": []
   },
   "outputs": [
    {
     "name": "stdout",
     "output_type": "stream",
     "text": [
      "<class 'pandas.core.frame.DataFrame'>\n",
      "RangeIndex: 814426 entries, 0 to 814425\n",
      "Data columns (total 28 columns):\n",
      " #   Column                   Non-Null Count   Dtype  \n",
      "---  ------                   --------------   -----  \n",
      " 0   No                       814426 non-null  int64  \n",
      " 1   No. Waybill              814426 non-null  object \n",
      " 2   No. Bagging              318112 non-null  object \n",
      " 3   No. Vehicle Tag          261999 non-null  object \n",
      " 4   Kota Incoming            814426 non-null  object \n",
      " 5   Tipe Scan                814426 non-null  object \n",
      " 6   Lokasi Sebelumnya        80245 non-null   object \n",
      " 7   Lokasi Selanjutnya       51938 non-null   object \n",
      " 8   Scan Tujuan              814426 non-null  object \n",
      " 9   Discan oleh              814426 non-null  object \n",
      " 10  Diinput Cabang           814426 non-null  object \n",
      " 11  Waktu Pencatatan         814426 non-null  object \n",
      " 12  Waktu Operasi            814426 non-null  object \n",
      " 13  Kurir                    388990 non-null  object \n",
      " 14  Cabang Incoming          80245 non-null   object \n",
      " 15  Total paket              814426 non-null  int64  \n",
      " 16  Berat                    814426 non-null  float64\n",
      " 17  Berat aktual             814426 non-null  float64\n",
      " 18  Volume Berat             814426 non-null  float64\n",
      " 19  Jenis paket              814426 non-null  object \n",
      " 20  Jenis layanan            814426 non-null  object \n",
      " 21  Giliran                  51938 non-null   object \n",
      " 22  Deskripsi                0 non-null       float64\n",
      " 23  Tujuan Waybill           814426 non-null  object \n",
      " 24  Kota Tujuan              814426 non-null  object \n",
      " 25  Provinsi Tujuan Waybill  814426 non-null  object \n",
      " 26  PAD                      814426 non-null  object \n",
      " 27  COD                      814426 non-null  int64  \n",
      "dtypes: float64(4), int64(3), object(21)\n",
      "memory usage: 174.0+ MB\n"
     ]
    }
   ],
   "source": [
    "df.info()"
   ]
  },
  {
   "cell_type": "code",
   "execution_count": 5,
   "id": "5184fc99-e215-4ad2-8f63-8b9040360095",
   "metadata": {
    "collapsed": true,
    "execution": {
     "iopub.execute_input": "2022-12-12T09:24:37.320206Z",
     "iopub.status.busy": "2022-12-12T09:24:37.320206Z",
     "iopub.status.idle": "2022-12-12T09:24:37.556988Z",
     "shell.execute_reply": "2022-12-12T09:24:37.554990Z",
     "shell.execute_reply.started": "2022-12-12T09:24:37.320206Z"
    },
    "jupyter": {
     "outputs_hidden": true
    },
    "tags": []
   },
   "outputs": [
    {
     "data": {
      "text/plain": [
       "No                                           1\n",
       "No. Waybill                    IDS901306496120\n",
       "No. Bagging                                NaN\n",
       "No. Vehicle Tag                   VA2200233794\n",
       "Kota Incoming                HULU SUNGAI UTARA\n",
       "Tipe Scan                         Sending scan\n",
       "Lokasi Sebelumnya                          NaN\n",
       "Lokasi Selanjutnya           TH AMUNTAI TENGAH\n",
       "Scan Tujuan                      AMUNTAI UTARA\n",
       "Discan oleh                     Muhammad Zaini\n",
       "Diinput Cabang                      TH BARABAI\n",
       "Waktu Pencatatan           01-02-2023 23:59:48\n",
       "Waktu Operasi              01-02-2023 23:59:43\n",
       "Kurir                                      NaN\n",
       "Cabang Incoming                            NaN\n",
       "Total paket                                  1\n",
       "Berat                                     0.02\n",
       "Berat aktual                              0.02\n",
       "Volume Berat                               0.0\n",
       "Jenis paket                             Barang\n",
       "Jenis layanan                         Drop off\n",
       "Giliran                                  Siang\n",
       "Deskripsi                                  NaN\n",
       "Tujuan Waybill                   AMUNTAI UTARA\n",
       "Kota Tujuan                  HULU SUNGAI UTARA\n",
       "Provinsi Tujuan Waybill     KALIMANTAN SELATAN\n",
       "PAD                                      Tidak\n",
       "COD                                          0\n",
       "Name: 0, dtype: object"
      ]
     },
     "execution_count": 5,
     "metadata": {},
     "output_type": "execute_result"
    }
   ],
   "source": [
    "df.loc[0]"
   ]
  },
  {
   "cell_type": "code",
   "execution_count": 6,
   "id": "1519cbd5-5909-4584-b386-973e9b19ecc3",
   "metadata": {
    "execution": {
     "iopub.execute_input": "2022-12-12T09:24:37.559985Z",
     "iopub.status.busy": "2022-12-12T09:24:37.558986Z",
     "iopub.status.idle": "2022-12-12T09:25:37.132547Z",
     "shell.execute_reply": "2022-12-12T09:25:37.132547Z",
     "shell.execute_reply.started": "2022-12-12T09:24:37.559985Z"
    },
    "tags": []
   },
   "outputs": [],
   "source": [
    "df[\"Waktu Pencatatan\"] = pd.to_datetime(df[\"Waktu Pencatatan\"], dayfirst=True)"
   ]
  },
  {
   "cell_type": "code",
   "execution_count": 7,
   "id": "71f87869",
   "metadata": {},
   "outputs": [],
   "source": [
    "df[\"Waktu Operasi\"] = pd.to_datetime(df[\"Waktu Operasi\"], dayfirst=True)"
   ]
  },
  {
   "cell_type": "code",
   "execution_count": 8,
   "id": "77969c77-b3d0-46b9-9b18-9c45979547ee",
   "metadata": {
    "execution": {
     "iopub.execute_input": "2022-12-12T09:25:37.136546Z",
     "iopub.status.busy": "2022-12-12T09:25:37.134547Z",
     "iopub.status.idle": "2022-12-12T09:25:37.453250Z",
     "shell.execute_reply": "2022-12-12T09:25:37.452251Z",
     "shell.execute_reply.started": "2022-12-12T09:25:37.136546Z"
    }
   },
   "outputs": [],
   "source": [
    "#df[\"Tanggal Pencatatan\"] = df[\"Waktu Pencatatan\"].dt.date"
   ]
  },
  {
   "cell_type": "code",
   "execution_count": 9,
   "id": "87fcd520-ad76-40ce-8dbb-348ff65c7f76",
   "metadata": {
    "execution": {
     "iopub.execute_input": "2022-12-12T09:25:37.459245Z",
     "iopub.status.busy": "2022-12-12T09:25:37.458246Z",
     "iopub.status.idle": "2022-12-12T09:25:38.273937Z",
     "shell.execute_reply": "2022-12-12T09:25:38.273285Z",
     "shell.execute_reply.started": "2022-12-12T09:25:37.459245Z"
    },
    "tags": []
   },
   "outputs": [],
   "source": [
    "pickup = df[df[\"Tipe Scan\"] == \"Pick up scan\"].copy()"
   ]
  },
  {
   "cell_type": "code",
   "execution_count": 10,
   "id": "bcbe2777-807b-4130-9828-ff5a5b5fe275",
   "metadata": {
    "execution": {
     "iopub.execute_input": "2022-12-12T09:25:38.274939Z",
     "iopub.status.busy": "2022-12-12T09:25:38.274939Z",
     "iopub.status.idle": "2022-12-12T09:25:38.433790Z",
     "shell.execute_reply": "2022-12-12T09:25:38.432816Z",
     "shell.execute_reply.started": "2022-12-12T09:25:38.274939Z"
    },
    "tags": []
   },
   "outputs": [],
   "source": [
    "delivery = df[df[\"Tipe Scan\"].isin([\"Delivery scan\", \"Delivery Task Accept\"])].sort_values(by = [\"Tipe Scan\", \"Waktu Pencatatan\"], ascending=[True, True]).copy()"
   ]
  },
  {
   "cell_type": "code",
   "execution_count": 11,
   "id": "ab72e327",
   "metadata": {},
   "outputs": [],
   "source": [
    "delivery.drop_duplicates(subset =\"No. Waybill\", inplace = True)"
   ]
  },
  {
   "cell_type": "code",
   "execution_count": 12,
   "id": "87fc69e2-39ea-4816-b351-66c827abbaec",
   "metadata": {
    "execution": {
     "iopub.execute_input": "2022-12-12T09:25:38.435789Z",
     "iopub.status.busy": "2022-12-12T09:25:38.434793Z",
     "iopub.status.idle": "2022-12-12T09:25:38.636602Z",
     "shell.execute_reply": "2022-12-12T09:25:38.636602Z",
     "shell.execute_reply.started": "2022-12-12T09:25:38.435789Z"
    },
    "tags": []
   },
   "outputs": [],
   "source": [
    "arrival = df[df[\"Tipe Scan\"].isin([\"Arrival scan\", \"Unloading scan\", \"Unpacking scan\"])].copy()"
   ]
  },
  {
   "cell_type": "code",
   "execution_count": 13,
   "id": "32e6b831-0b3f-43ee-8ab7-cdb19362d44e",
   "metadata": {
    "execution": {
     "iopub.execute_input": "2022-12-12T09:25:38.638601Z",
     "iopub.status.busy": "2022-12-12T09:25:38.638601Z",
     "iopub.status.idle": "2022-12-12T09:25:38.669570Z",
     "shell.execute_reply": "2022-12-12T09:25:38.668573Z",
     "shell.execute_reply.started": "2022-12-12T09:25:38.638601Z"
    },
    "tags": []
   },
   "outputs": [
    {
     "data": {
      "text/plain": [
       "array(['Arrival scan', 'Unloading scan', 'Unpacking scan'], dtype=object)"
      ]
     },
     "execution_count": 13,
     "metadata": {},
     "output_type": "execute_result"
    }
   ],
   "source": [
    "arrival[\"Tipe Scan\"].unique()"
   ]
  },
  {
   "cell_type": "code",
   "execution_count": 14,
   "id": "b746add4-eb69-44cf-bd46-ec603c51b8ae",
   "metadata": {
    "execution": {
     "iopub.execute_input": "2022-12-12T09:25:38.670570Z",
     "iopub.status.busy": "2022-12-12T09:25:38.670570Z",
     "iopub.status.idle": "2022-12-12T09:25:38.780469Z",
     "shell.execute_reply": "2022-12-12T09:25:38.780469Z",
     "shell.execute_reply.started": "2022-12-12T09:25:38.670570Z"
    },
    "tags": []
   },
   "outputs": [],
   "source": [
    "pickup = pickup.merge(delivery[[\"No. Waybill\", \"Diinput Cabang\", \"Waktu Pencatatan\"]].drop_duplicates(subset=\"No. Waybill\"), \n",
    "                      how=\"left\", left_on = \"No. Waybill\", right_on = \"No. Waybill\")"
   ]
  },
  {
   "cell_type": "code",
   "execution_count": 15,
   "id": "266424b5-7dda-4c16-9fd0-5eae5c8f90e5",
   "metadata": {
    "execution": {
     "iopub.execute_input": "2022-12-12T09:25:38.782467Z",
     "iopub.status.busy": "2022-12-12T09:25:38.781466Z",
     "iopub.status.idle": "2022-12-12T09:25:38.844409Z",
     "shell.execute_reply": "2022-12-12T09:25:38.844409Z",
     "shell.execute_reply.started": "2022-12-12T09:25:38.782467Z"
    },
    "tags": []
   },
   "outputs": [],
   "source": [
    "pickup = pickup[~pickup[\"Diinput Cabang_y\"].isnull()].copy()"
   ]
  },
  {
   "cell_type": "code",
   "execution_count": 16,
   "id": "51113a20-ee9e-40ec-8023-26e508af4753",
   "metadata": {
    "execution": {
     "iopub.execute_input": "2022-12-12T09:25:38.850404Z",
     "iopub.status.busy": "2022-12-12T09:25:38.849405Z",
     "iopub.status.idle": "2022-12-12T09:25:39.002262Z",
     "shell.execute_reply": "2022-12-12T09:25:39.002262Z",
     "shell.execute_reply.started": "2022-12-12T09:25:38.850404Z"
    }
   },
   "outputs": [],
   "source": [
    "arrival = arrival.merge(delivery[[\"No. Waybill\", \"Diinput Cabang\", \"Waktu Pencatatan\"]], \n",
    "                      how=\"left\", left_on = \"No. Waybill\", right_on = \"No. Waybill\")"
   ]
  },
  {
   "cell_type": "code",
   "execution_count": 17,
   "id": "9edb2f83-2f5c-4a46-b02a-3eb5af97a081",
   "metadata": {
    "execution": {
     "iopub.execute_input": "2022-12-12T09:25:39.004260Z",
     "iopub.status.busy": "2022-12-12T09:25:39.004260Z",
     "iopub.status.idle": "2022-12-12T09:25:39.113158Z",
     "shell.execute_reply": "2022-12-12T09:25:39.112185Z",
     "shell.execute_reply.started": "2022-12-12T09:25:39.004260Z"
    },
    "tags": []
   },
   "outputs": [],
   "source": [
    "incoming = pd.concat([arrival, pickup]).copy()"
   ]
  },
  {
   "cell_type": "code",
   "execution_count": 18,
   "id": "2f6bd249-74ba-426e-917a-a15db1917133",
   "metadata": {
    "execution": {
     "iopub.execute_input": "2022-12-12T09:25:39.114158Z",
     "iopub.status.busy": "2022-12-12T09:25:39.114158Z",
     "iopub.status.idle": "2022-12-12T09:25:39.129143Z",
     "shell.execute_reply": "2022-12-12T09:25:39.128144Z",
     "shell.execute_reply.started": "2022-12-12T09:25:39.114158Z"
    }
   },
   "outputs": [],
   "source": [
    "scan = pd.CategoricalDtype(categories=['Arrival scan', 'Unloading scan', 'Unpacking scan', 'Pick up scan'], ordered=True)"
   ]
  },
  {
   "cell_type": "code",
   "execution_count": 19,
   "id": "9a3e9d80-71d9-41a1-ae34-7325e967c946",
   "metadata": {
    "execution": {
     "iopub.execute_input": "2022-12-12T09:25:39.131145Z",
     "iopub.status.busy": "2022-12-12T09:25:39.130143Z",
     "iopub.status.idle": "2022-12-12T09:25:39.192086Z",
     "shell.execute_reply": "2022-12-12T09:25:39.192086Z",
     "shell.execute_reply.started": "2022-12-12T09:25:39.131145Z"
    }
   },
   "outputs": [],
   "source": [
    "incoming[\"Tipe Scan\"] = incoming[\"Tipe Scan\"].astype(scan)"
   ]
  },
  {
   "cell_type": "code",
   "execution_count": 20,
   "id": "a89527f3-d021-4f93-81bd-fc5e4c2de594",
   "metadata": {
    "execution": {
     "iopub.execute_input": "2022-12-12T09:25:39.194083Z",
     "iopub.status.busy": "2022-12-12T09:25:39.193084Z",
     "iopub.status.idle": "2022-12-12T09:25:39.209069Z",
     "shell.execute_reply": "2022-12-12T09:25:39.208070Z",
     "shell.execute_reply.started": "2022-12-12T09:25:39.194083Z"
    }
   },
   "outputs": [],
   "source": [
    "incoming.rename(columns = {\"Diinput Cabang_x\":\"Diinput Cabang\", \"Waktu Pencatatan_x\":\"Waktu Pencatatan\"}, inplace = True)"
   ]
  },
  {
   "cell_type": "code",
   "execution_count": 21,
   "id": "82b7603c-d4f8-4924-88a0-dacb03a9fe63",
   "metadata": {
    "execution": {
     "iopub.execute_input": "2022-12-12T09:25:39.210068Z",
     "iopub.status.busy": "2022-12-12T09:25:39.210068Z",
     "iopub.status.idle": "2022-12-12T09:25:39.225055Z",
     "shell.execute_reply": "2022-12-12T09:25:39.224161Z",
     "shell.execute_reply.started": "2022-12-12T09:25:39.210068Z"
    },
    "tags": []
   },
   "outputs": [],
   "source": [
    "incoming.rename(columns = {\"Diinput Cabang_y\":\"TH Delivery\", \"Waktu Pencatatan_y\":\"Waktu Delivery\"}, inplace = True)"
   ]
  },
  {
   "cell_type": "code",
   "execution_count": 22,
   "id": "eec7ffc1-c2c9-428f-9de9-65512a70e535",
   "metadata": {
    "execution": {
     "iopub.execute_input": "2022-12-12T09:25:39.227052Z",
     "iopub.status.busy": "2022-12-12T09:25:39.226056Z",
     "iopub.status.idle": "2022-12-12T09:25:39.398892Z",
     "shell.execute_reply": "2022-12-12T09:25:39.397895Z",
     "shell.execute_reply.started": "2022-12-12T09:25:39.227052Z"
    },
    "tags": []
   },
   "outputs": [],
   "source": [
    "#incoming.sort_values(by = [\"Tanggal Pencatatan\", \"Tipe Scan\"], ascending = [False,True], inplace=True)"
   ]
  },
  {
   "cell_type": "code",
   "execution_count": 23,
   "id": "7c47e095-90ea-49ca-99fa-fc01fa783399",
   "metadata": {
    "collapsed": true,
    "execution": {
     "iopub.execute_input": "2022-12-12T09:33:55.914773Z",
     "iopub.status.busy": "2022-12-12T09:33:55.913773Z",
     "iopub.status.idle": "2022-12-12T09:33:56.051645Z",
     "shell.execute_reply": "2022-12-12T09:33:56.051645Z",
     "shell.execute_reply.started": "2022-12-12T09:33:55.914773Z"
    },
    "jupyter": {
     "outputs_hidden": true
    },
    "tags": []
   },
   "outputs": [
    {
     "name": "stdout",
     "output_type": "stream",
     "text": [
      "<class 'pandas.core.frame.DataFrame'>\n",
      "Int64Index: 263503 entries, 0 to 48036\n",
      "Data columns (total 30 columns):\n",
      " #   Column                   Non-Null Count   Dtype         \n",
      "---  ------                   --------------   -----         \n",
      " 0   No                       263503 non-null  int64         \n",
      " 1   No. Waybill              263503 non-null  object        \n",
      " 2   No. Bagging              198855 non-null  object        \n",
      " 3   No. Vehicle Tag          156907 non-null  object        \n",
      " 4   Kota Incoming            263503 non-null  object        \n",
      " 5   Tipe Scan                263503 non-null  category      \n",
      " 6   Lokasi Sebelumnya        80245 non-null   object        \n",
      " 7   Lokasi Selanjutnya       0 non-null       object        \n",
      " 8   Scan Tujuan              263503 non-null  object        \n",
      " 9   Discan oleh              263503 non-null  object        \n",
      " 10  Diinput Cabang           263503 non-null  object        \n",
      " 11  Waktu Pencatatan         263503 non-null  datetime64[ns]\n",
      " 12  Waktu Operasi            263503 non-null  datetime64[ns]\n",
      " 13  Kurir                    41385 non-null   object        \n",
      " 14  Cabang Incoming          80245 non-null   object        \n",
      " 15  Total paket              263503 non-null  int64         \n",
      " 16  Berat                    263503 non-null  float64       \n",
      " 17  Berat aktual             263503 non-null  float64       \n",
      " 18  Volume Berat             263503 non-null  float64       \n",
      " 19  Jenis paket              263503 non-null  object        \n",
      " 20  Jenis layanan            263503 non-null  object        \n",
      " 21  Giliran                  0 non-null       object        \n",
      " 22  Deskripsi                0 non-null       float64       \n",
      " 23  Tujuan Waybill           263503 non-null  object        \n",
      " 24  Kota Tujuan              263503 non-null  object        \n",
      " 25  Provinsi Tujuan Waybill  263503 non-null  object        \n",
      " 26  PAD                      263503 non-null  object        \n",
      " 27  COD                      263503 non-null  int64         \n",
      " 28  TH Delivery              255050 non-null  object        \n",
      " 29  Waktu Delivery           255050 non-null  datetime64[ns]\n",
      "dtypes: category(1), datetime64[ns](3), float64(4), int64(3), object(19)\n",
      "memory usage: 60.6+ MB\n"
     ]
    }
   ],
   "source": [
    "incoming.info()"
   ]
  },
  {
   "cell_type": "code",
   "execution_count": 24,
   "id": "0136a1ca-4375-4ec0-bb96-8609a8129bc2",
   "metadata": {
    "execution": {
     "iopub.execute_input": "2022-12-12T09:25:39.749567Z",
     "iopub.status.busy": "2022-12-12T09:25:39.749567Z",
     "iopub.status.idle": "2022-12-12T09:25:39.762555Z",
     "shell.execute_reply": "2022-12-12T09:25:39.760558Z",
     "shell.execute_reply.started": "2022-12-12T09:25:39.749567Z"
    }
   },
   "outputs": [],
   "source": [
    "def codstatus(x):\n",
    "    if x == 0:\n",
    "        return \"Non COD\"\n",
    "    else:\n",
    "        return \"COD\""
   ]
  },
  {
   "cell_type": "code",
   "execution_count": 25,
   "id": "4f65b72c-846a-4755-bf79-341eb160f1df",
   "metadata": {
    "execution": {
     "iopub.execute_input": "2022-12-12T09:25:39.765552Z",
     "iopub.status.busy": "2022-12-12T09:25:39.764553Z",
     "iopub.status.idle": "2022-12-12T09:25:39.824497Z",
     "shell.execute_reply": "2022-12-12T09:25:39.823498Z",
     "shell.execute_reply.started": "2022-12-12T09:25:39.765552Z"
    }
   },
   "outputs": [],
   "source": [
    "incoming[\"COD Status\"] = incoming[\"COD\"].apply(lambda x: codstatus(x))"
   ]
  },
  {
   "cell_type": "code",
   "execution_count": 26,
   "id": "66bdee57-2905-439a-b62a-ff810ff01393",
   "metadata": {
    "execution": {
     "iopub.execute_input": "2022-12-12T09:25:39.830492Z",
     "iopub.status.busy": "2022-12-12T09:25:39.828493Z",
     "iopub.status.idle": "2022-12-12T09:25:39.855468Z",
     "shell.execute_reply": "2022-12-12T09:25:39.854469Z",
     "shell.execute_reply.started": "2022-12-12T09:25:39.830492Z"
    }
   },
   "outputs": [],
   "source": [
    "incoming[\"lookup\"] = incoming[\"Kota Tujuan\"] + incoming[\"Tujuan Waybill\"] "
   ]
  },
  {
   "cell_type": "code",
   "execution_count": 27,
   "id": "a199f780-eb40-4e21-aa84-b11813051033",
   "metadata": {
    "execution": {
     "iopub.execute_input": "2022-12-12T09:25:39.857466Z",
     "iopub.status.busy": "2022-12-12T09:25:39.856467Z",
     "iopub.status.idle": "2022-12-12T09:25:40.284069Z",
     "shell.execute_reply": "2022-12-12T09:25:40.283070Z",
     "shell.execute_reply.started": "2022-12-12T09:25:39.857466Z"
    },
    "tags": []
   },
   "outputs": [],
   "source": [
    "lookup = pd.read_excel(\"Lookup.xlsx\")"
   ]
  },
  {
   "cell_type": "code",
   "execution_count": 28,
   "id": "0bd8f924-c9b4-44d1-ae49-a810a1c1ffe1",
   "metadata": {
    "execution": {
     "iopub.execute_input": "2022-12-12T09:25:40.287067Z",
     "iopub.status.busy": "2022-12-12T09:25:40.286068Z",
     "iopub.status.idle": "2022-12-12T09:25:40.394966Z",
     "shell.execute_reply": "2022-12-12T09:25:40.394966Z",
     "shell.execute_reply.started": "2022-12-12T09:25:40.287067Z"
    },
    "tags": []
   },
   "outputs": [],
   "source": [
    "incoming = incoming.merge(lookup[[\"Lookup\", \"Destinasi Area\"]], \n",
    "                      how=\"left\", left_on = \"lookup\", right_on = \"Lookup\")"
   ]
  },
  {
   "cell_type": "code",
   "execution_count": 29,
   "id": "7d87fdf4-d7fe-4ab1-90ed-cddc74c57622",
   "metadata": {
    "execution": {
     "iopub.execute_input": "2022-12-12T09:25:40.396964Z",
     "iopub.status.busy": "2022-12-12T09:25:40.396964Z",
     "iopub.status.idle": "2022-12-12T09:25:40.474894Z",
     "shell.execute_reply": "2022-12-12T09:25:40.473893Z",
     "shell.execute_reply.started": "2022-12-12T09:25:40.396964Z"
    },
    "tags": []
   },
   "outputs": [],
   "source": [
    "incoming.drop([\"lookup\", \"Lookup\"], axis=1, inplace=True)"
   ]
  },
  {
   "cell_type": "code",
   "execution_count": 30,
   "id": "e5fe29c2-e271-4c7f-9e5c-5a72ba6a6bb3",
   "metadata": {
    "execution": {
     "iopub.execute_input": "2022-12-12T09:26:58.184217Z",
     "iopub.status.busy": "2022-12-12T09:26:58.183217Z",
     "iopub.status.idle": "2022-12-12T09:26:58.200202Z",
     "shell.execute_reply": "2022-12-12T09:26:58.199201Z",
     "shell.execute_reply.started": "2022-12-12T09:26:58.184217Z"
    },
    "tags": []
   },
   "outputs": [],
   "source": [
    "def tharrival(row):\n",
    "    if row[\"Tipe Scan\"] == \"Pick up scan\":\n",
    "        return row[\"TH Delivery\"]\n",
    "    else:\n",
    "        return row[\"Diinput Cabang\"]"
   ]
  },
  {
   "cell_type": "code",
   "execution_count": 31,
   "id": "d20ec3ab-5f02-4d2d-8bd6-71c3499ac9d2",
   "metadata": {
    "execution": {
     "iopub.execute_input": "2022-12-12T09:26:59.455901Z",
     "iopub.status.busy": "2022-12-12T09:26:59.455901Z",
     "iopub.status.idle": "2022-12-12T09:27:02.635941Z",
     "shell.execute_reply": "2022-12-12T09:27:02.634941Z",
     "shell.execute_reply.started": "2022-12-12T09:26:59.455901Z"
    },
    "tags": []
   },
   "outputs": [],
   "source": [
    "incoming[\"TH Arrival\"] = incoming[['Tipe Scan','TH Delivery','Diinput Cabang']].apply(tharrival, axis=1)"
   ]
  },
  {
   "cell_type": "code",
   "execution_count": 32,
   "id": "113bbd70-0de5-4e06-83cd-77b3a1937ba8",
   "metadata": {
    "execution": {
     "iopub.execute_input": "2022-12-12T09:27:07.467448Z",
     "iopub.status.busy": "2022-12-12T09:27:07.466447Z",
     "iopub.status.idle": "2022-12-12T09:27:07.487429Z",
     "shell.execute_reply": "2022-12-12T09:27:07.486434Z",
     "shell.execute_reply.started": "2022-12-12T09:27:07.467448Z"
    },
    "tags": []
   },
   "outputs": [],
   "source": [
    "def waktuarrival(row):\n",
    "    if row[\"Tipe Scan\"] == \"Pick up scan\":\n",
    "        return row[\"Waktu Delivery\"]\n",
    "    else:\n",
    "        return row[\"Waktu Pencatatan\"]"
   ]
  },
  {
   "cell_type": "code",
   "execution_count": 33,
   "id": "7f2ab87d",
   "metadata": {},
   "outputs": [],
   "source": [
    "incoming[\"Waktu Arrival\"] = incoming[['Tipe Scan','Waktu Delivery','Waktu Pencatatan']].apply(waktuarrival, axis=1)"
   ]
  },
  {
   "cell_type": "code",
   "execution_count": 34,
   "id": "84268a1f-8d32-4334-839c-4d12763d8cae",
   "metadata": {
    "execution": {
     "iopub.execute_input": "2022-12-12T09:27:52.729328Z",
     "iopub.status.busy": "2022-12-12T09:27:52.726330Z",
     "iopub.status.idle": "2022-12-12T09:27:53.275820Z",
     "shell.execute_reply": "2022-12-12T09:27:53.274821Z",
     "shell.execute_reply.started": "2022-12-12T09:27:52.729328Z"
    },
    "tags": []
   },
   "outputs": [],
   "source": [
    "incoming[\"Tanggal Arrival\"] = incoming[\"Waktu Arrival\"].dt.date"
   ]
  },
  {
   "cell_type": "code",
   "execution_count": 35,
   "id": "e2a083e2-5e58-432c-b99e-9326cd19bd45",
   "metadata": {
    "execution": {
     "iopub.execute_input": "2022-12-12T09:25:39.227052Z",
     "iopub.status.busy": "2022-12-12T09:25:39.226056Z",
     "iopub.status.idle": "2022-12-12T09:25:39.398892Z",
     "shell.execute_reply": "2022-12-12T09:25:39.397895Z",
     "shell.execute_reply.started": "2022-12-12T09:25:39.227052Z"
    },
    "tags": []
   },
   "outputs": [],
   "source": [
    "incoming.sort_values(by = [\"Tanggal Arrival\",\"Tipe Scan\",\"Waktu Arrival\"], ascending = [True,True,False], inplace=True)"
   ]
  },
  {
   "cell_type": "code",
   "execution_count": 36,
   "id": "a1820f73-4890-437c-93b3-132d11677fb2",
   "metadata": {
    "execution": {
     "iopub.execute_input": "2022-12-12T09:33:52.944206Z",
     "iopub.status.busy": "2022-12-12T09:33:52.944206Z",
     "iopub.status.idle": "2022-12-12T09:33:53.336837Z",
     "shell.execute_reply": "2022-12-12T09:33:53.336837Z",
     "shell.execute_reply.started": "2022-12-12T09:33:52.944206Z"
    },
    "tags": []
   },
   "outputs": [],
   "source": [
    "incoming.drop_duplicates(subset = [\"No. Waybill\", \"Tanggal Arrival\"], inplace = True)"
   ]
  },
  {
   "cell_type": "code",
   "execution_count": 37,
   "id": "d9047321-bced-44f9-95c4-a00fe765d367",
   "metadata": {
    "execution": {
     "iopub.execute_input": "2022-12-12T09:27:04.258432Z",
     "iopub.status.busy": "2022-12-12T09:27:04.258432Z",
     "iopub.status.idle": "2022-12-12T09:27:04.816913Z",
     "shell.execute_reply": "2022-12-12T09:27:04.816913Z",
     "shell.execute_reply.started": "2022-12-12T09:27:04.258432Z"
    },
    "tags": []
   },
   "outputs": [],
   "source": [
    "incoming = incoming.merge(lookup[[\"Destinasi Area\", \"Mitra Area\"]].drop_duplicates(subset=\"Destinasi Area\"), \n",
    "                      how=\"left\", left_on = \"TH Arrival\", right_on = \"Destinasi Area\")"
   ]
  },
  {
   "cell_type": "code",
   "execution_count": 38,
   "id": "169c8953-a582-4960-9060-5ff1e038e0dc",
   "metadata": {
    "execution": {
     "iopub.execute_input": "2022-12-12T09:29:22.084076Z",
     "iopub.status.busy": "2022-12-12T09:29:22.083070Z",
     "iopub.status.idle": "2022-12-12T09:29:22.098056Z",
     "shell.execute_reply": "2022-12-12T09:29:22.097057Z",
     "shell.execute_reply.started": "2022-12-12T09:29:22.084076Z"
    }
   },
   "outputs": [],
   "source": [
    "incoming.rename(columns = {\"Destinasi Area_x\":\"Destinasi Area\"}, inplace = True)"
   ]
  },
  {
   "cell_type": "code",
   "execution_count": 39,
   "id": "59f3abf7-69a9-4adc-811f-259435031602",
   "metadata": {
    "execution": {
     "iopub.execute_input": "2022-12-12T09:29:50.922597Z",
     "iopub.status.busy": "2022-12-12T09:29:50.922597Z",
     "iopub.status.idle": "2022-12-12T09:29:51.752824Z",
     "shell.execute_reply": "2022-12-12T09:29:51.751825Z",
     "shell.execute_reply.started": "2022-12-12T09:29:50.922597Z"
    }
   },
   "outputs": [],
   "source": [
    "incoming.drop(columns=[\"Destinasi Area_y\"], inplace=True)"
   ]
  },
  {
   "cell_type": "code",
   "execution_count": 40,
   "id": "8d6c8c80",
   "metadata": {},
   "outputs": [],
   "source": [
    "incoming[\"Waktu Arrival\"] = pd.to_datetime(incoming[\"Waktu Arrival\"], dayfirst=True)"
   ]
  },
  {
   "cell_type": "code",
   "execution_count": 41,
   "id": "b1f570f2",
   "metadata": {},
   "outputs": [],
   "source": [
    "incoming[\"Tanggal Arrival\"] = pd.to_datetime(incoming[\"Tanggal Arrival\"], dayfirst=True)"
   ]
  },
  {
   "cell_type": "code",
   "execution_count": 42,
   "id": "a4d9d64e",
   "metadata": {},
   "outputs": [],
   "source": [
    "incoming.drop_duplicates(subset = [\"No. Waybill\", \"Tanggal Arrival\"], inplace = True)"
   ]
  },
  {
   "cell_type": "code",
   "execution_count": 43,
   "id": "d3ed1fc3-2e73-4b4f-b9ed-8f4d1fbe366f",
   "metadata": {
    "execution": {
     "iopub.execute_input": "2022-12-12T09:29:56.635594Z",
     "iopub.status.busy": "2022-12-12T09:29:56.635594Z",
     "iopub.status.idle": "2022-12-12T09:29:56.672564Z",
     "shell.execute_reply": "2022-12-12T09:29:56.671564Z",
     "shell.execute_reply.started": "2022-12-12T09:29:56.635594Z"
    }
   },
   "outputs": [
    {
     "name": "stdout",
     "output_type": "stream",
     "text": [
      "<class 'pandas.core.frame.DataFrame'>\n",
      "Int64Index: 94686 entries, 0 to 94685\n",
      "Data columns (total 36 columns):\n",
      " #   Column                   Non-Null Count  Dtype         \n",
      "---  ------                   --------------  -----         \n",
      " 0   No                       94686 non-null  int64         \n",
      " 1   No. Waybill              94686 non-null  object        \n",
      " 2   No. Bagging              68053 non-null  object        \n",
      " 3   No. Vehicle Tag          79687 non-null  object        \n",
      " 4   Kota Incoming            94686 non-null  object        \n",
      " 5   Tipe Scan                94686 non-null  category      \n",
      " 6   Lokasi Sebelumnya        78878 non-null  object        \n",
      " 7   Lokasi Selanjutnya       0 non-null      object        \n",
      " 8   Scan Tujuan              94686 non-null  object        \n",
      " 9   Discan oleh              94686 non-null  object        \n",
      " 10  Diinput Cabang           94686 non-null  object        \n",
      " 11  Waktu Pencatatan         94686 non-null  datetime64[ns]\n",
      " 12  Waktu Operasi            94686 non-null  datetime64[ns]\n",
      " 13  Kurir                    14289 non-null  object        \n",
      " 14  Cabang Incoming          78878 non-null  object        \n",
      " 15  Total paket              94686 non-null  int64         \n",
      " 16  Berat                    94686 non-null  float64       \n",
      " 17  Berat aktual             94686 non-null  float64       \n",
      " 18  Volume Berat             94686 non-null  float64       \n",
      " 19  Jenis paket              94686 non-null  object        \n",
      " 20  Jenis layanan            94686 non-null  object        \n",
      " 21  Giliran                  0 non-null      object        \n",
      " 22  Deskripsi                0 non-null      float64       \n",
      " 23  Tujuan Waybill           94686 non-null  object        \n",
      " 24  Kota Tujuan              94686 non-null  object        \n",
      " 25  Provinsi Tujuan Waybill  94686 non-null  object        \n",
      " 26  PAD                      94686 non-null  object        \n",
      " 27  COD                      94686 non-null  int64         \n",
      " 28  TH Delivery              91574 non-null  object        \n",
      " 29  Waktu Delivery           91574 non-null  datetime64[ns]\n",
      " 30  COD Status               94686 non-null  object        \n",
      " 31  Destinasi Area           94455 non-null  object        \n",
      " 32  TH Arrival               94686 non-null  object        \n",
      " 33  Waktu Arrival            94686 non-null  datetime64[ns]\n",
      " 34  Tanggal Arrival          94686 non-null  datetime64[ns]\n",
      " 35  Mitra Area               94686 non-null  object        \n",
      "dtypes: category(1), datetime64[ns](5), float64(4), int64(3), object(23)\n",
      "memory usage: 26.1+ MB\n"
     ]
    }
   ],
   "source": [
    "incoming.info()"
   ]
  },
  {
   "cell_type": "code",
   "execution_count": 44,
   "id": "0ae327b7",
   "metadata": {},
   "outputs": [],
   "source": [
    "incoming.set_index(\"No\", inplace=True)"
   ]
  },
  {
   "cell_type": "code",
   "execution_count": 45,
   "id": "52a8076a",
   "metadata": {},
   "outputs": [],
   "source": [
    "incoming.sort_values(by = [\"Tanggal Arrival\", \"Waktu Arrival\"], ascending = [True,False], inplace=True)"
   ]
  },
  {
   "cell_type": "code",
   "execution_count": 46,
   "id": "1cc53871",
   "metadata": {},
   "outputs": [],
   "source": [
    "def transit(row):\n",
    "    if row[\"Tipe Scan\"] == \"Pick up scan\":\n",
    "        return np.nan\n",
    "    elif row[\"TH Delivery\"] == None and row[\"Destinasi Area\"] == None:\n",
    "        return \"Transit\"\n",
    "    elif row[\"Destinasi Area\"] == row[\"TH Arrival\"]:\n",
    "        return np.nan\n",
    "    elif row[\"TH Delivery\"] == row[\"TH Arrival\"]:\n",
    "        return np.nan\n",
    "    elif row[\"TH Delivery\"] == row[\"Destinasi Area\"] and pd.Timestamp(row[\"Waktu Delivery\"]).date() == pd.Timestamp(row[\"Tanggal Arrival\"]).date():\n",
    "        return np.nan\n",
    "    else:\n",
    "        return \"Transit\"\n",
    "    "
   ]
  },
  {
   "cell_type": "code",
   "execution_count": 47,
   "id": "1d1eec03",
   "metadata": {},
   "outputs": [],
   "source": [
    "incoming[\"Transit\"] = incoming.apply(lambda row: transit(row), axis=1)"
   ]
  },
  {
   "cell_type": "code",
   "execution_count": 48,
   "id": "355e620c",
   "metadata": {},
   "outputs": [
    {
     "data": {
      "text/plain": [
       "No. Waybill                    0\n",
       "No. Bagging                26633\n",
       "No. Vehicle Tag            14999\n",
       "Kota Incoming                  0\n",
       "Tipe Scan                      0\n",
       "Lokasi Sebelumnya          15808\n",
       "Lokasi Selanjutnya         94686\n",
       "Scan Tujuan                    0\n",
       "Discan oleh                    0\n",
       "Diinput Cabang                 0\n",
       "Waktu Pencatatan               0\n",
       "Waktu Operasi                  0\n",
       "Kurir                      80397\n",
       "Cabang Incoming            15808\n",
       "Total paket                    0\n",
       "Berat                          0\n",
       "Berat aktual                   0\n",
       "Volume Berat                   0\n",
       "Jenis paket                    0\n",
       "Jenis layanan                  0\n",
       "Giliran                    94686\n",
       "Deskripsi                  94686\n",
       "Tujuan Waybill                 0\n",
       "Kota Tujuan                    0\n",
       "Provinsi Tujuan Waybill        0\n",
       "PAD                            0\n",
       "COD                            0\n",
       "TH Delivery                 3112\n",
       "Waktu Delivery              3112\n",
       "COD Status                     0\n",
       "Destinasi Area               231\n",
       "TH Arrival                     0\n",
       "Waktu Arrival                  0\n",
       "Tanggal Arrival                0\n",
       "Mitra Area                     0\n",
       "Transit                    87079\n",
       "dtype: int64"
      ]
     },
     "execution_count": 48,
     "metadata": {},
     "output_type": "execute_result"
    }
   ],
   "source": [
    "incoming.isnull().sum()"
   ]
  },
  {
   "cell_type": "code",
   "execution_count": 49,
   "id": "9f4f3662",
   "metadata": {},
   "outputs": [
    {
     "data": {
      "text/plain": [
       "2"
      ]
     },
     "execution_count": 49,
     "metadata": {},
     "output_type": "execute_result"
    }
   ],
   "source": [
    "bulan = (date.today() - timedelta(days=1)).month\n",
    "bulan"
   ]
  },
  {
   "cell_type": "code",
   "execution_count": 50,
   "id": "59acb192",
   "metadata": {},
   "outputs": [],
   "source": [
    "incoming = incoming[incoming[\"Tanggal Arrival\"].dt.month == bulan]"
   ]
  },
  {
   "cell_type": "code",
   "execution_count": 51,
   "id": "685fb7c1",
   "metadata": {},
   "outputs": [],
   "source": [
    "bersih = incoming[incoming[\"Transit\"].isnull()].sort_values(by=[\"Tanggal Arrival\", \"Waktu Arrival\"], ascending=[True, True]).drop_duplicates(subset=\"No. Waybill\").copy()"
   ]
  },
  {
   "cell_type": "code",
   "execution_count": 52,
   "id": "c67cc7cb",
   "metadata": {},
   "outputs": [],
   "source": [
    "bersih.sort_values(by = [\"Tanggal Arrival\", \"Tipe Scan\", \"Waktu Pencatatan\"], ascending=[True, True, False], inplace=True)"
   ]
  },
  {
   "cell_type": "code",
   "execution_count": 53,
   "id": "1782e0db",
   "metadata": {},
   "outputs": [
    {
     "data": {
      "text/plain": [
       "'15 Feb 2023'"
      ]
     },
     "execution_count": 53,
     "metadata": {},
     "output_type": "execute_result"
    }
   ],
   "source": [
    "kemaren = (date.today() - timedelta(days=1)).strftime('%d %b %Y')\n",
    "kemaren"
   ]
  },
  {
   "cell_type": "code",
   "execution_count": 54,
   "id": "97a890b8-690d-4e8a-bb3c-8317bfbaedcf",
   "metadata": {
    "execution": {
     "iopub.execute_input": "2022-12-12T09:34:11.552974Z",
     "iopub.status.busy": "2022-12-12T09:34:11.552974Z",
     "iopub.status.idle": "2022-12-12T09:35:51.947893Z",
     "shell.execute_reply": "2022-12-12T09:35:51.946894Z",
     "shell.execute_reply.started": "2022-12-12T09:34:11.552974Z"
    },
    "tags": []
   },
   "outputs": [],
   "source": [
    "bersih.to_csv(f\"incoming {kemaren}.csv\", sep=\",\", index=False)"
   ]
  },
  {
   "cell_type": "code",
   "execution_count": 55,
   "id": "885327a4",
   "metadata": {},
   "outputs": [],
   "source": [
    "def deliverytime(row):\n",
    "    if row[\"Waktu Delivery\"] == None:\n",
    "        return np.nan\n",
    "    elif row[\"Waktu Delivery\"] > row[\"Waktu Arrival\"]:\n",
    "        deliv = (row[\"Waktu Delivery\"] - row[\"Waktu Arrival\"])\n",
    "        return deliv\n",
    "    else:\n",
    "        return np.nan\n"
   ]
  },
  {
   "cell_type": "code",
   "execution_count": 56,
   "id": "f7772db8",
   "metadata": {},
   "outputs": [],
   "source": [
    "#bersih[\"Delivery Time\"] = bersih[[\"Waktu Delivery\", \"Waktu Arrival\"]].apply(deliverytime, axis=1)"
   ]
  },
  {
   "cell_type": "code",
   "execution_count": 57,
   "id": "891718f6",
   "metadata": {},
   "outputs": [],
   "source": [
    "#left = pd.DataFrame({'key': ['A', 'B', 'C', 'D'], 'value': np.random.randn(4)})\n",
    "#right = pd.DataFrame({'key': ['B', 'B', 'B', 'E', 'F'], 'value': np.random.randn(5)})\n",
    "#left.merge(right, how=\"left\", left_on='key', right_on='key')"
   ]
  },
  {
   "cell_type": "code",
   "execution_count": 58,
   "id": "ab4ffca2",
   "metadata": {},
   "outputs": [
    {
     "data": {
      "text/plain": [
       "Provinsi Tujuan Waybill\n",
       "KALIMANTAN SELATAN      95\n",
       "KALIMANTAN BARAT        40\n",
       "KALIMANTAN TIMUR        31\n",
       "KALIMANTAN TENGAH       23\n",
       "KALIMANTAN UTARA         9\n",
       "DKI JAKARTA              5\n",
       "JAWA BARAT               3\n",
       "SULAWESI SELATAN         2\n",
       "SUMATERA SELATAN         2\n",
       "JAWA TIMUR               2\n",
       "BANTEN                   1\n",
       "KEP. BANGKA BELITUNG     1\n",
       "KEP. RIAU                1\n",
       "LAMPUNG                  1\n",
       "NTT                      1\n",
       "SULAWESI TENGGARA        1\n",
       "SUMATERA BARAT           1\n",
       "BALI                     1\n",
       "dtype: int64"
      ]
     },
     "execution_count": 58,
     "metadata": {},
     "output_type": "execute_result"
    }
   ],
   "source": [
    "df[df[\"Tipe Scan\"] == \"Confirm Return Bill\"].value_counts(subset=\"Provinsi Tujuan Waybill\")"
   ]
  },
  {
   "cell_type": "code",
   "execution_count": null,
   "id": "8923b76f",
   "metadata": {},
   "outputs": [],
   "source": []
  }
 ],
 "metadata": {
  "kernelspec": {
   "display_name": "base",
   "language": "python",
   "name": "python3"
  },
  "language_info": {
   "codemirror_mode": {
    "name": "ipython",
    "version": 3
   },
   "file_extension": ".py",
   "mimetype": "text/x-python",
   "name": "python",
   "nbconvert_exporter": "python",
   "pygments_lexer": "ipython3",
   "version": "3.9.12"
  },
  "vscode": {
   "interpreter": {
    "hash": "a5d6c2be6262c78dadbf075e7ed7eef3fc1090c1044fdcff36d11e01ba01e819"
   }
  }
 },
 "nbformat": 4,
 "nbformat_minor": 5
}
